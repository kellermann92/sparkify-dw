{
 "cells": [
  {
   "cell_type": "markdown",
   "id": "automated-illinois",
   "metadata": {},
   "source": [
    "# **Test notebook**\n",
    "---"
   ]
  },
  {
   "cell_type": "code",
   "execution_count": 1,
   "id": "incredible-bacteria",
   "metadata": {
    "execution": {
     "iopub.execute_input": "2021-03-24T23:36:25.611087Z",
     "iopub.status.busy": "2021-03-24T23:36:25.610240Z",
     "iopub.status.idle": "2021-03-24T23:36:25.647725Z",
     "shell.execute_reply": "2021-03-24T23:36:25.646939Z",
     "shell.execute_reply.started": "2021-03-24T23:36:25.610879Z"
    },
    "tags": []
   },
   "outputs": [],
   "source": [
    "# Loading main packages\n",
    "import sys\n",
    "import yaml\n",
    "sys.path.append('/home/kellermann/git_repo/sparkify_cloud')"
   ]
  },
  {
   "cell_type": "code",
   "execution_count": 2,
   "id": "familiar-floating",
   "metadata": {
    "execution": {
     "iopub.execute_input": "2021-03-24T23:36:26.164941Z",
     "iopub.status.busy": "2021-03-24T23:36:26.164270Z",
     "iopub.status.idle": "2021-03-24T23:36:26.184574Z",
     "shell.execute_reply": "2021-03-24T23:36:26.182962Z",
     "shell.execute_reply.started": "2021-03-24T23:36:26.164859Z"
    },
    "tags": []
   },
   "outputs": [],
   "source": [
    "# Loading YAML\n",
    "with open(\"setup.yaml-template\", 'r') as stream:\n",
    "    setup = yaml.safe_load(stream)"
   ]
  },
  {
   "cell_type": "code",
   "execution_count": 3,
   "id": "forbidden-wilson",
   "metadata": {
    "execution": {
     "iopub.execute_input": "2021-03-24T23:36:26.821828Z",
     "iopub.status.busy": "2021-03-24T23:36:26.820964Z",
     "iopub.status.idle": "2021-03-24T23:36:26.829234Z",
     "shell.execute_reply": "2021-03-24T23:36:26.827413Z",
     "shell.execute_reply.started": "2021-03-24T23:36:26.821735Z"
    },
    "tags": []
   },
   "outputs": [],
   "source": [
    "# Distributing values from YAML\n",
    "key, secret, token, region = setup['AWS'].values()\n",
    "cluster_type, cluster_nnodes, node_type, cluster_identifier, cluster_port, _HOST, cluster_dbname, cluster_user, cluster_password = setup['CLUSTER'].values()\n",
    "dbase_iam_role = setup['IAM_ROLE_NAME']\n",
    "s3_logdata, s3_logjson, s3_songdata = setup['S3'].values()"
   ]
  },
  {
   "cell_type": "code",
   "execution_count": 4,
   "id": "reserved-present",
   "metadata": {
    "execution": {
     "iopub.execute_input": "2021-03-24T22:59:12.945921Z",
     "iopub.status.busy": "2021-03-24T22:59:12.945421Z",
     "iopub.status.idle": "2021-03-24T22:59:12.966977Z",
     "shell.execute_reply": "2021-03-24T22:59:12.963401Z",
     "shell.execute_reply.started": "2021-03-24T22:59:12.945877Z"
    },
    "tags": []
   },
   "outputs": [
    {
     "data": {
      "text/plain": [
       "('MyAmazonS3ReadOnlyAccess', 'us-east-1')"
      ]
     },
     "execution_count": 4,
     "metadata": {},
     "output_type": "execute_result"
    }
   ],
   "source": [
    "dbase_iam_role, region"
   ]
  },
  {
   "cell_type": "markdown",
   "id": "satisfied-florist",
   "metadata": {},
   "source": [
    "## **Creating an EC2 and S3 resource instance** <a name = \"create_ec2_s3\"> </a>\n",
    "---"
   ]
  },
  {
   "cell_type": "code",
   "execution_count": null,
   "id": "historical-neutral",
   "metadata": {
    "tags": []
   },
   "outputs": [],
   "source": [
    "# Importing module and objects to create EC2 and S3 instances.\n",
    "from aws.resources import EC2, S3"
   ]
  },
  {
   "cell_type": "code",
   "execution_count": null,
   "id": "solid-original",
   "metadata": {
    "tags": []
   },
   "outputs": [],
   "source": [
    "s3 = S3(key, secret, token, region).s3()"
   ]
  },
  {
   "cell_type": "code",
   "execution_count": null,
   "id": "taken-sender",
   "metadata": {
    "tags": []
   },
   "outputs": [],
   "source": [
    "ec2 = EC2(key, secret, token, region).ec2()"
   ]
  },
  {
   "cell_type": "markdown",
   "id": "associate-techno",
   "metadata": {},
   "source": [
    "## **Attaching read only IAM Role policy** <a name = \"readonly_policy\"> </a>\n",
    "---"
   ]
  },
  {
   "cell_type": "code",
   "execution_count": null,
   "id": "advanced-static",
   "metadata": {
    "tags": []
   },
   "outputs": [],
   "source": [
    "# Importing module and object to attach read only policy.\n",
    "from aws.iam_role import IAMRole"
   ]
  },
  {
   "cell_type": "code",
   "execution_count": null,
   "id": "median-background",
   "metadata": {
    "tags": []
   },
   "outputs": [],
   "source": [
    "arn = IAMRole(key, secret, token, region).read_only(dbase_iam_role)\n",
    "arn"
   ]
  },
  {
   "cell_type": "markdown",
   "id": "small-monitor",
   "metadata": {},
   "source": [
    "## **Create RedShift cluster** <a name = \"create_redshift\"> </a>\n",
    "---"
   ]
  },
  {
   "cell_type": "code",
   "execution_count": 5,
   "id": "quality-indian",
   "metadata": {
    "execution": {
     "iopub.execute_input": "2021-03-24T22:59:24.112730Z",
     "iopub.status.busy": "2021-03-24T22:59:24.112196Z",
     "iopub.status.idle": "2021-03-24T22:59:24.260898Z",
     "shell.execute_reply": "2021-03-24T22:59:24.260235Z",
     "shell.execute_reply.started": "2021-03-24T22:59:24.112665Z"
    },
    "tags": []
   },
   "outputs": [],
   "source": [
    "from aws.redshift_cluster import Cluster"
   ]
  },
  {
   "cell_type": "code",
   "execution_count": 6,
   "id": "bright-operator",
   "metadata": {
    "execution": {
     "iopub.execute_input": "2021-03-24T22:59:24.371706Z",
     "iopub.status.busy": "2021-03-24T22:59:24.370820Z",
     "iopub.status.idle": "2021-03-24T22:59:24.468503Z",
     "shell.execute_reply": "2021-03-24T22:59:24.467391Z",
     "shell.execute_reply.started": "2021-03-24T22:59:24.371603Z"
    },
    "tags": []
   },
   "outputs": [
    {
     "name": "stdout",
     "output_type": "stream",
     "text": [
      "Client type: iam.\n",
      "Region: us-east-1.\n"
     ]
    }
   ],
   "source": [
    "red = Cluster(key, secret, token, region, cluster_identifier)"
   ]
  },
  {
   "cell_type": "code",
   "execution_count": null,
   "id": "pregnant-destination",
   "metadata": {
    "execution": {
     "iopub.execute_input": "2021-03-24T22:59:24.957949Z",
     "iopub.status.busy": "2021-03-24T22:59:24.957095Z",
     "iopub.status.idle": "2021-03-24T22:59:28.072460Z",
     "shell.execute_reply": "2021-03-24T22:59:28.069228Z",
     "shell.execute_reply.started": "2021-03-24T22:59:24.957853Z"
    },
    "tags": []
   },
   "outputs": [],
   "source": [
    "red.create_cluster(cluster_type, cluster_nnodes, node_type, cluster_dbname, cluster_user, cluster_password,dbase_iam_role)"
   ]
  },
  {
   "cell_type": "code",
   "execution_count": 9,
   "id": "statutory-assist",
   "metadata": {
    "execution": {
     "iopub.execute_input": "2021-03-24T23:00:03.114588Z",
     "iopub.status.busy": "2021-03-24T23:00:03.113748Z",
     "iopub.status.idle": "2021-03-24T23:00:04.333802Z",
     "shell.execute_reply": "2021-03-24T23:00:04.330940Z",
     "shell.execute_reply.started": "2021-03-24T23:00:03.114477Z"
    },
    "tags": []
   },
   "outputs": [
    {
     "name": "stdout",
     "output_type": "stream",
     "text": [
      "Client type: redshift.\n",
      "Region: us-east-1.\n"
     ]
    }
   ],
   "source": [
    "cluster_properties = red.cluster_properties"
   ]
  },
  {
   "cell_type": "code",
   "execution_count": 11,
   "id": "front-mainland",
   "metadata": {
    "execution": {
     "iopub.execute_input": "2021-03-24T23:02:35.374388Z",
     "iopub.status.busy": "2021-03-24T23:02:35.373887Z",
     "iopub.status.idle": "2021-03-24T23:02:38.555776Z",
     "shell.execute_reply": "2021-03-24T23:02:38.552891Z",
     "shell.execute_reply.started": "2021-03-24T23:02:35.374334Z"
    },
    "tags": []
   },
   "outputs": [
    {
     "name": "stdout",
     "output_type": "stream",
     "text": [
      "Opening Virtual Private Cloud...\n",
      "Going to create an EC2 instance.\n",
      "ec2: ec2.ServiceResource()\n",
      "Client type: redshift.\n",
      "Region: us-east-1.\n",
      "Virtual Private Cloud open at ec2.Vpc(id='vpc-dfa110a2').\n",
      "The specified rule \"peer: 0.0.0.0/0, TCP, from port: 5439, to port: 5439, ALLOW\" already exists.\n"
     ]
    }
   ],
   "source": [
    "red.ec2_redshift_connection(cluster_port)"
   ]
  },
  {
   "cell_type": "markdown",
   "id": "textile-navigator",
   "metadata": {},
   "source": [
    "## **Connect to a database** <a name = \"connect_redshift_database\"> </a>\n",
    "---"
   ]
  },
  {
   "cell_type": "code",
   "execution_count": 12,
   "id": "athletic-constraint",
   "metadata": {
    "execution": {
     "iopub.execute_input": "2021-03-24T23:02:59.483409Z",
     "iopub.status.busy": "2021-03-24T23:02:59.482572Z",
     "iopub.status.idle": "2021-03-24T23:05:09.670920Z",
     "shell.execute_reply": "2021-03-24T23:05:09.669297Z",
     "shell.execute_reply.started": "2021-03-24T23:02:59.483257Z"
    },
    "tags": []
   },
   "outputs": [
    {
     "ename": "OperationalError",
     "evalue": "could not connect to server: Connection timed out\n\tIs the server running on host \"sparkify-redshift.ckr7cumwvx5f.us-east-1.redshift.amazonaws.com\" (18.204.121.63) and accepting\n\tTCP/IP connections on port 5439?\n",
     "output_type": "error",
     "traceback": [
      "\u001b[0;31m---------------------------------------------------------------------------\u001b[0m",
      "\u001b[0;31mOperationalError\u001b[0m                          Traceback (most recent call last)",
      "\u001b[0;32m<ipython-input-12-bec3ee96cef9>\u001b[0m in \u001b[0;36m<module>\u001b[0;34m\u001b[0m\n\u001b[1;32m      6\u001b[0m \u001b[0mcon_string\u001b[0m \u001b[0;34m=\u001b[0m \u001b[0;34mf\"host={cluster_properties['Endpoint']['Address']} dbname={cluster_dbname} user={cluster_user} password={cluster_password} port={cluster_port}\"\u001b[0m\u001b[0;34m\u001b[0m\u001b[0;34m\u001b[0m\u001b[0m\n\u001b[1;32m      7\u001b[0m \u001b[0;34m\u001b[0m\u001b[0m\n\u001b[0;32m----> 8\u001b[0;31m \u001b[0mconn\u001b[0m \u001b[0;34m=\u001b[0m \u001b[0mpsycopg2\u001b[0m\u001b[0;34m.\u001b[0m\u001b[0mconnect\u001b[0m\u001b[0;34m(\u001b[0m\u001b[0mcon_string\u001b[0m\u001b[0;34m)\u001b[0m\u001b[0;34m\u001b[0m\u001b[0;34m\u001b[0m\u001b[0m\n\u001b[0m",
      "\u001b[0;32m~/anaconda3/envs/sparkify_aws/lib/python3.9/site-packages/psycopg2/__init__.py\u001b[0m in \u001b[0;36mconnect\u001b[0;34m(dsn, connection_factory, cursor_factory, **kwargs)\u001b[0m\n\u001b[1;32m    125\u001b[0m \u001b[0;34m\u001b[0m\u001b[0m\n\u001b[1;32m    126\u001b[0m     \u001b[0mdsn\u001b[0m \u001b[0;34m=\u001b[0m \u001b[0m_ext\u001b[0m\u001b[0;34m.\u001b[0m\u001b[0mmake_dsn\u001b[0m\u001b[0;34m(\u001b[0m\u001b[0mdsn\u001b[0m\u001b[0;34m,\u001b[0m \u001b[0;34m**\u001b[0m\u001b[0mkwargs\u001b[0m\u001b[0;34m)\u001b[0m\u001b[0;34m\u001b[0m\u001b[0;34m\u001b[0m\u001b[0m\n\u001b[0;32m--> 127\u001b[0;31m     \u001b[0mconn\u001b[0m \u001b[0;34m=\u001b[0m \u001b[0m_connect\u001b[0m\u001b[0;34m(\u001b[0m\u001b[0mdsn\u001b[0m\u001b[0;34m,\u001b[0m \u001b[0mconnection_factory\u001b[0m\u001b[0;34m=\u001b[0m\u001b[0mconnection_factory\u001b[0m\u001b[0;34m,\u001b[0m \u001b[0;34m**\u001b[0m\u001b[0mkwasync\u001b[0m\u001b[0;34m)\u001b[0m\u001b[0;34m\u001b[0m\u001b[0;34m\u001b[0m\u001b[0m\n\u001b[0m\u001b[1;32m    128\u001b[0m     \u001b[0;32mif\u001b[0m \u001b[0mcursor_factory\u001b[0m \u001b[0;32mis\u001b[0m \u001b[0;32mnot\u001b[0m \u001b[0;32mNone\u001b[0m\u001b[0;34m:\u001b[0m\u001b[0;34m\u001b[0m\u001b[0;34m\u001b[0m\u001b[0m\n\u001b[1;32m    129\u001b[0m         \u001b[0mconn\u001b[0m\u001b[0;34m.\u001b[0m\u001b[0mcursor_factory\u001b[0m \u001b[0;34m=\u001b[0m \u001b[0mcursor_factory\u001b[0m\u001b[0;34m\u001b[0m\u001b[0;34m\u001b[0m\u001b[0m\n",
      "\u001b[0;31mOperationalError\u001b[0m: could not connect to server: Connection timed out\n\tIs the server running on host \"sparkify-redshift.ckr7cumwvx5f.us-east-1.redshift.amazonaws.com\" (18.204.121.63) and accepting\n\tTCP/IP connections on port 5439?\n"
     ]
    }
   ],
   "source": [
    "import psycopg2\n",
    "# conn = psycopg2.connect(host=red.cluster_properties['Endpoint']['Address'], dbname=cluster_dbname, user=cluster_user, password=str(cluster_password), port=str(cluster_port))\n",
    "con_string = f\"host={cluster_properties['Endpoint']['Address']} dbname={cluster_dbname} user={cluster_user} password={cluster_password} port={cluster_port}\"\n",
    "\n",
    "conn = psycopg2.connect(con_string)"
   ]
  },
  {
   "cell_type": "code",
   "execution_count": null,
   "id": "immune-liquid",
   "metadata": {},
   "outputs": [],
   "source": []
  }
 ],
 "metadata": {
  "kernelspec": {
   "display_name": "Python 3",
   "language": "python",
   "name": "python3"
  },
  "language_info": {
   "codemirror_mode": {
    "name": "ipython",
    "version": 3
   },
   "file_extension": ".py",
   "mimetype": "text/x-python",
   "name": "python",
   "nbconvert_exporter": "python",
   "pygments_lexer": "ipython3",
   "version": "3.9.2"
  }
 },
 "nbformat": 4,
 "nbformat_minor": 5
}
